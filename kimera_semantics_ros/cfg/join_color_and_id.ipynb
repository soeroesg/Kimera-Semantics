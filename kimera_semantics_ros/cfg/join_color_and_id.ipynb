{
 "cells": [
  {
   "cell_type": "code",
   "execution_count": 45,
   "metadata": {},
   "outputs": [],
   "source": [
    "import pandas as pd"
   ]
  },
  {
   "cell_type": "code",
   "execution_count": 46,
   "metadata": {},
   "outputs": [],
   "source": [
    "filenames = [\n",
    "    \"tesse_multiscene_archviz1_segmentation_mapping\",\n",
    "    \"tesse_multiscene_office2_segmentation_mapping\",\n",
    "    \"tesse_multiscene_neighborhood1_segmentation_mapping\",\n",
    "    \"tesse_multiscene_underground1_segmentation_mapping\"\n",
    "            ]"
   ]
  },
  {
   "cell_type": "code",
   "execution_count": 49,
   "metadata": {},
   "outputs": [],
   "source": [
    "for filename in filenames:\n",
    "    new_colors_csv = pd.read_csv(\"./unlabeled_2/\"+filename+\".csv\")\n",
    "    new_ids_csv = pd.read_csv(filename+\".csv\")\n",
    "\n",
    "    new_ids = new_ids_csv[['id']]\n",
    "    new_colors = new_colors_csv[['name', 'red', 'green', 'blue', 'alpha']]\n",
    "\n",
    "    new_csv = pd.concat([new_colors, new_ids], axis=1, sort=False)\n",
    "\n",
    "    new_csv.to_csv(filename+'_labeled.csv', index=False)"
   ]
  }
 ],
 "metadata": {
  "kernelspec": {
   "display_name": "Python 3",
   "language": "python",
   "name": "python3"
  },
  "language_info": {
   "codemirror_mode": {
    "name": "ipython",
    "version": 3
   },
   "file_extension": ".py",
   "mimetype": "text/x-python",
   "name": "python",
   "nbconvert_exporter": "python",
   "pygments_lexer": "ipython3",
   "version": "3.7.6"
  }
 },
 "nbformat": 4,
 "nbformat_minor": 4
}
